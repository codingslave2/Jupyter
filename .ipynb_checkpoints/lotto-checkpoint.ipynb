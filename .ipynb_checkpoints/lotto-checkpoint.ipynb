{
 "cells": [
  {
   "cell_type": "markdown",
   "id": "6dd35dac",
   "metadata": {},
   "source": [
    "## 로또 당첨 번호 가져오기"
   ]
  },
  {
   "cell_type": "code",
   "execution_count": 25,
   "id": "e829dbce",
   "metadata": {},
   "outputs": [
    {
     "name": "stdout",
     "output_type": "stream",
     "text": [
      "당첨번호\n",
      "['3', '10', '24', '33', '38', '45']\n",
      "보너스번호\n",
      "36\n"
     ]
    }
   ],
   "source": [
    "import requests\n",
    "from bs4 import BeautifulSoup\n",
    "\n",
    "num = 1060\n",
    "url = \"https://www.dhlottery.co.kr/gameResult.do?method=byWin&drwNo={}\".format(num)\n",
    "response = requests.get(url)\n",
    "# print(response.text)\n",
    "\n",
    "soup = BeautifulSoup(response.text, \"html.parser\")\n",
    "win_result = soup.select_one('div.win_result') #태그이름, 클래스이름\n",
    "win_result.text\n",
    "# win_result.text # \\n을 확인함\n",
    "win_list = win_result.text.split('\\n')[7:13]\n",
    "win_list\n",
    "print('당첨번호')\n",
    "print(win_list)\n",
    "bonus_num = win_result.text.split('\\n')[-4]\n",
    "print('보너스번호')\n",
    "print(bonus_num)"
   ]
  },
  {
   "cell_type": "markdown",
   "id": "3ce54c4e",
   "metadata": {},
   "source": [
    "# 로또 당첨앱 제작"
   ]
  },
  {
   "cell_type": "code",
   "execution_count": 55,
   "id": "3e348ee4",
   "metadata": {},
   "outputs": [
    {
     "ename": "TclError",
     "evalue": "invalid command name \".!button\"",
     "output_type": "error",
     "traceback": [
      "\u001b[1;31m---------------------------------------------------------------------------\u001b[0m",
      "\u001b[1;31mTclError\u001b[0m                                  Traceback (most recent call last)",
      "Cell \u001b[1;32mIn[55], line 34\u001b[0m\n\u001b[0;32m     32\u001b[0m entry \u001b[38;5;241m=\u001b[39m Entry(window, bg\u001b[38;5;241m=\u001b[39m\u001b[38;5;124m'\u001b[39m\u001b[38;5;124myellowgreen\u001b[39m\u001b[38;5;124m'\u001b[39m)\n\u001b[0;32m     33\u001b[0m entry\u001b[38;5;241m.\u001b[39mgrid(row\u001b[38;5;241m=\u001b[39m\u001b[38;5;241m1\u001b[39m, column\u001b[38;5;241m=\u001b[39m\u001b[38;5;241m0\u001b[39m)\n\u001b[1;32m---> 34\u001b[0m \u001b[43mbtn\u001b[49m\u001b[38;5;241;43m.\u001b[39;49m\u001b[43mconfig\u001b[49m\u001b[43m(\u001b[49m\u001b[43mbg\u001b[49m\u001b[38;5;241;43m=\u001b[39;49m\u001b[38;5;124;43m'\u001b[39;49m\u001b[38;5;124;43mlightblue\u001b[39;49m\u001b[38;5;124;43m'\u001b[39;49m\u001b[43m)\u001b[49m \u001b[38;5;66;03m# 버튼 색상 변경\u001b[39;00m\n\u001b[0;32m     35\u001b[0m btn \u001b[38;5;241m=\u001b[39m Button(window, text\u001b[38;5;241m=\u001b[39m\u001b[38;5;124m\"\u001b[39m\u001b[38;5;124m당첨 번호 확인\u001b[39m\u001b[38;5;124m\"\u001b[39m, command\u001b[38;5;241m=\u001b[39mlotto_win, bg\u001b[38;5;241m=\u001b[39m\u001b[38;5;124m'\u001b[39m\u001b[38;5;124mpink\u001b[39m\u001b[38;5;124m'\u001b[39m)\n\u001b[0;32m     36\u001b[0m btn\u001b[38;5;241m.\u001b[39mgrid(row\u001b[38;5;241m=\u001b[39m\u001b[38;5;241m2\u001b[39m, column\u001b[38;5;241m=\u001b[39m\u001b[38;5;241m0\u001b[39m, sticky\u001b[38;5;241m=\u001b[39mW)\n",
      "File \u001b[1;32mC:\\ProgramData\\anaconda3\\lib\\tkinter\\__init__.py:1675\u001b[0m, in \u001b[0;36mMisc.configure\u001b[1;34m(self, cnf, **kw)\u001b[0m\n\u001b[0;32m   1668\u001b[0m \u001b[38;5;28;01mdef\u001b[39;00m \u001b[38;5;21mconfigure\u001b[39m(\u001b[38;5;28mself\u001b[39m, cnf\u001b[38;5;241m=\u001b[39m\u001b[38;5;28;01mNone\u001b[39;00m, \u001b[38;5;241m*\u001b[39m\u001b[38;5;241m*\u001b[39mkw):\n\u001b[0;32m   1669\u001b[0m     \u001b[38;5;124;03m\"\"\"Configure resources of a widget.\u001b[39;00m\n\u001b[0;32m   1670\u001b[0m \n\u001b[0;32m   1671\u001b[0m \u001b[38;5;124;03m    The values for resources are specified as keyword\u001b[39;00m\n\u001b[0;32m   1672\u001b[0m \u001b[38;5;124;03m    arguments. To get an overview about\u001b[39;00m\n\u001b[0;32m   1673\u001b[0m \u001b[38;5;124;03m    the allowed keyword arguments call the method keys.\u001b[39;00m\n\u001b[0;32m   1674\u001b[0m \u001b[38;5;124;03m    \"\"\"\u001b[39;00m\n\u001b[1;32m-> 1675\u001b[0m     \u001b[38;5;28;01mreturn\u001b[39;00m \u001b[38;5;28;43mself\u001b[39;49m\u001b[38;5;241;43m.\u001b[39;49m\u001b[43m_configure\u001b[49m\u001b[43m(\u001b[49m\u001b[38;5;124;43m'\u001b[39;49m\u001b[38;5;124;43mconfigure\u001b[39;49m\u001b[38;5;124;43m'\u001b[39;49m\u001b[43m,\u001b[49m\u001b[43m \u001b[49m\u001b[43mcnf\u001b[49m\u001b[43m,\u001b[49m\u001b[43m \u001b[49m\u001b[43mkw\u001b[49m\u001b[43m)\u001b[49m\n",
      "File \u001b[1;32mC:\\ProgramData\\anaconda3\\lib\\tkinter\\__init__.py:1665\u001b[0m, in \u001b[0;36mMisc._configure\u001b[1;34m(self, cmd, cnf, kw)\u001b[0m\n\u001b[0;32m   1663\u001b[0m \u001b[38;5;28;01mif\u001b[39;00m \u001b[38;5;28misinstance\u001b[39m(cnf, \u001b[38;5;28mstr\u001b[39m):\n\u001b[0;32m   1664\u001b[0m     \u001b[38;5;28;01mreturn\u001b[39;00m \u001b[38;5;28mself\u001b[39m\u001b[38;5;241m.\u001b[39m_getconfigure1(_flatten((\u001b[38;5;28mself\u001b[39m\u001b[38;5;241m.\u001b[39m_w, cmd, \u001b[38;5;124m'\u001b[39m\u001b[38;5;124m-\u001b[39m\u001b[38;5;124m'\u001b[39m\u001b[38;5;241m+\u001b[39mcnf)))\n\u001b[1;32m-> 1665\u001b[0m \u001b[38;5;28;43mself\u001b[39;49m\u001b[38;5;241;43m.\u001b[39;49m\u001b[43mtk\u001b[49m\u001b[38;5;241;43m.\u001b[39;49m\u001b[43mcall\u001b[49m\u001b[43m(\u001b[49m\u001b[43m_flatten\u001b[49m\u001b[43m(\u001b[49m\u001b[43m(\u001b[49m\u001b[38;5;28;43mself\u001b[39;49m\u001b[38;5;241;43m.\u001b[39;49m\u001b[43m_w\u001b[49m\u001b[43m,\u001b[49m\u001b[43m \u001b[49m\u001b[43mcmd\u001b[49m\u001b[43m)\u001b[49m\u001b[43m)\u001b[49m\u001b[43m \u001b[49m\u001b[38;5;241;43m+\u001b[39;49m\u001b[43m \u001b[49m\u001b[38;5;28;43mself\u001b[39;49m\u001b[38;5;241;43m.\u001b[39;49m\u001b[43m_options\u001b[49m\u001b[43m(\u001b[49m\u001b[43mcnf\u001b[49m\u001b[43m)\u001b[49m\u001b[43m)\u001b[49m\n",
      "\u001b[1;31mTclError\u001b[0m: invalid command name \".!button\""
     ]
    }
   ],
   "source": [
    "import requests\n",
    "from bs4 import BeautifulSoup\n",
    "from tkinter import *  # 대문자로 변경\n",
    "\n",
    "def lotto_win():\n",
    "#     num = 1062\n",
    "    num = entry.get() # 입력상자에 입력된 값\n",
    "    url = \"https://www.dhlottery.co.kr/gameResult.do?method=byWin&drwNo={}\".format(num)\n",
    "    response = requests.get(url)\n",
    "\n",
    "    soup = BeautifulSoup(response.text, \"html.parser\")\n",
    "    win_result = soup.select_one('div.win_result') \n",
    "    win_list = win_result.text.split('\\n')[7:13]\n",
    "    bonus_num = win_result.text.split('\\n')[-4]\n",
    "    \n",
    "    # 출력 상자에 번호 출력\n",
    "    output.delete(1.0, END) #첫행 첫문자 위치에서 시작\n",
    "    output.insert(END, f'당첨번호 : {win_list}\\n\\n보너스번호 : {bonus_num}')\n",
    "\n",
    "#     print('당첨번호')\n",
    "#     print(win_list)     \n",
    "#     print('보너스번호')\n",
    "#     print(bonus_num)\n",
    "\n",
    "# lotto_win()\n",
    "\n",
    "window = Tk()\n",
    "window.title(\"로또 당첨 번호 확인\")\n",
    "\n",
    "Label(window, text=\"당첨 회차 입력: \").grid(row=0, column=0)\n",
    "# 입력 상자\n",
    "entry = Entry(window, bg='yellowgreen')\n",
    "entry.grid(row=1, column=0)\n",
    "btn = Button(window, text=\"당첨 번호 확인\", command=lotto_win, bg='pink')\n",
    "btn.grid(row=2, column=0, sticky=W)\n",
    "\n",
    "\n",
    "\n",
    "# 출력 상자\n",
    "output = Text(window, bg='skyblue', width=50, height=6)\n",
    "output.grid(row=3, column=0, sticky=W)\n",
    "\n",
    "\n",
    "\n",
    "window.mainloop()\n"
   ]
  },
  {
   "cell_type": "code",
   "execution_count": null,
   "id": "c5835368",
   "metadata": {},
   "outputs": [],
   "source": []
  }
 ],
 "metadata": {
  "kernelspec": {
   "display_name": "Python 3 (ipykernel)",
   "language": "python",
   "name": "python3"
  },
  "language_info": {
   "codemirror_mode": {
    "name": "ipython",
    "version": 3
   },
   "file_extension": ".py",
   "mimetype": "text/x-python",
   "name": "python",
   "nbconvert_exporter": "python",
   "pygments_lexer": "ipython3",
   "version": "3.10.9"
  }
 },
 "nbformat": 4,
 "nbformat_minor": 5
}
