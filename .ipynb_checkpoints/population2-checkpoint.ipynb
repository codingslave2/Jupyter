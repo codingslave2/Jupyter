{
 "cells": [
  {
   "cell_type": "markdown",
   "id": "40d2f3cf",
   "metadata": {},
   "source": [
    "## 우리 동네 지역의 남여 성별 인구 분포"
   ]
  },
  {
   "cell_type": "code",
   "execution_count": 22,
   "id": "4f7b0ec9",
   "metadata": {},
   "outputs": [
    {
     "name": "stdout",
     "output_type": "stream",
     "text": [
      "4,567,739 4,857,134\n"
     ]
    }
   ],
   "source": [
    "import csv\n",
    "\n",
    "with open(\"./datas/gender.csv\", 'r') as f:\n",
    "    data = csv.reader(f)\n",
    "    header = next(data)\n",
    "    \n",
    "    for row in data:\n",
    "#         print(row)\n",
    "        if '서울' in row[0]:\n",
    "            print(row[2], row[105]) # 남성 총인구, 여성 총인구\n",
    "            break"
   ]
  },
  {
   "cell_type": "code",
   "execution_count": 20,
   "id": "6964b08f",
   "metadata": {},
   "outputs": [
    {
     "name": "stdout",
     "output_type": "stream",
     "text": [
      "찾고 싶은 지역명을 입력하세요: 고등동\n"
     ]
    },
    {
     "data": {
      "image/png": "[encoded data removed]",
      "text/plain": [
       "<Figure size 640x480 with 1 Axes>"
      ]
     },
     "metadata": {},
     "output_type": "display_data"
    }
   ],
   "source": [
    "import csv\n",
    "import matplotlib.pyplot as plt\n",
    "\n",
    "with open(\"./datas/gender.csv\", 'r') as f:\n",
    "    data = csv.reader(f)\n",
    "    header = next(data)\n",
    "    name = input('찾고 싶은 지역명을 입력하세요: ')\n",
    "    \n",
    "    \n",
    "    m = [] # 연령별 남성인구\n",
    "    fm = [] ##연령별 여성인구\n",
    "    \n",
    "    for row in data:\n",
    "#         print(row)\n",
    "        if name in row[0]:\n",
    "            for i in row[3:104]:\n",
    "                m.append(-int(i.replace(\",\", \"\"))) # 숫자로 변환해서 저장. 천 단위 쉼표 제거\n",
    "            for i in row[106:]:\n",
    "                fm.append(int(i.replace(\",\", \"\")))\n",
    "            break # 반복 해제\n",
    "            \n",
    "                \n",
    "# 그래프로 출력\n",
    "# plt.rc(\"font\", family=\"Malgun Gothic\")\n",
    "# plt.title(name + \"지역의 남녀 성별 인구 분포\")\n",
    "# plt.plot(m,'blue')\n",
    "# plt.plot(fm,'red')\n",
    "# plt.show()\n",
    "\n",
    "plt.rc(\"font\", family=\"Malgun Gothic\")\n",
    "plt.title(name + \"지역의 남녀 성별 인구 분포\")\n",
    "plt.rcParams['axes.unicode_minus'] = False\n",
    "plt.barh(range(101), m, label='남성') # 가로 막대형 그래프\n",
    "plt.barh(range(101), fm, label='여성')\n",
    "plt.legend() # 레이블 적용\n",
    "plt.show()"
   ]
  },
  {
   "cell_type": "code",
   "execution_count": 23,
   "id": "8bcf554a",
   "metadata": {},
   "outputs": [
    {
     "name": "stdout",
     "output_type": "stream",
     "text": [
      "Malgun Gothic\n",
      "Malgun Gothic\n",
      "Malgun Gothic\n"
     ]
    }
   ],
   "source": [
    "# 글꼴 찾기\n",
    "import matplotlib.pyplot as plt\n",
    "from matplotlib import font_manager\n",
    "\n",
    "for font in font_manager.fontManager.ttflist:\n",
    "    if 'Malgun' in font.name: # 폰트 이름 입력\n",
    "        print(font.name)"
   ]
  },
  {
   "cell_type": "code",
   "execution_count": null,
   "id": "b5a3ad9b",
   "metadata": {},
   "outputs": [],
   "source": []
  }
 ],
 "metadata": {
  "kernelspec": {
   "display_name": "Python 3 (ipykernel)",
   "language": "python",
   "name": "python3"
  },
  "language_info": {
   "codemirror_mode": {
    "name": "ipython",
    "version": 3
   },
   "file_extension": ".py",
   "mimetype": "text/x-python",
   "name": "python",
   "nbconvert_exporter": "python",
   "pygments_lexer": "ipython3",
   "version": "3.10.9"
  }
 },
 "nbformat": 4,
 "nbformat_minor": 5
}
