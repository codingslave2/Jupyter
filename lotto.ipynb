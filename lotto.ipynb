{
 "cells": [
  {
   "cell_type": "markdown",
   "id": "7f54df45",
   "metadata": {},
   "source": [
    "## 로또 당첨 번호 가져오기"
   ]
  },
  {
   "cell_type": "code",
   "execution_count": 25,
   "id": "132831ad",
   "metadata": {},
   "outputs": [
    {
     "name": "stdout",
     "output_type": "stream",
     "text": [
      "당첨번호\n",
      "['3', '10', '24', '33', '38', '45']\n",
      "보너스번호\n",
      "36\n"
     ]
    }
   ],
   "source": [
    "import requests\n",
    "from bs4 import BeautifulSoup\n",
    "\n",
    "num = 1060\n",
    "url = \"https://www.dhlottery.co.kr/gameResult.do?method=byWin&drwNo={}\".format(num)\n",
    "response = requests.get(url)\n",
    "# print(response.text)\n",
    "\n",
    "soup = BeautifulSoup(response.text, \"html.parser\")\n",
    "win_result = soup.select_one('div.win_result') #태그이름, 클래스이름\n",
    "win_result.text\n",
    "# win_result.text # \\n을 확인함\n",
    "win_list = win_result.text.split('\\n')[7:13]\n",
    "win_list\n",
    "print('당첨번호')\n",
    "print(win_list)\n",
    "bonus_num = win_result.text.split('\\n')[-4]\n",
    "print('보너스번호')\n",
    "print(bonus_num)"
   ]
  },
  {
   "cell_type": "markdown",
   "id": "906202a4",
   "metadata": {},
   "source": [
    "# 로또 당첨앱 제작"
   ]
  },
  {
   "cell_type": "code",
   "execution_count": 57,
   "id": "cf1c7408",
   "metadata": {},
   "outputs": [],
   "source": [
    "import requests\n",
    "from bs4 import BeautifulSoup\n",
    "from tkinter import *  # 대문자로 변경\n",
    "\n",
    "def lotto_win():\n",
    "#     num = 1062\n",
    "    num = entry.get() # 입력상자에 입력된 값\n",
    "    url = \"https://www.dhlottery.co.kr/gameResult.do?method=byWin&drwNo={}\".format(num)\n",
    "    response = requests.get(url)\n",
    "\n",
    "    soup = BeautifulSoup(response.text, \"html.parser\")\n",
    "    win_result = soup.select_one('div.win_result') \n",
    "    win_list = win_result.text.split('\\n')[7:13]\n",
    "    bonus_num = win_result.text.split('\\n')[-4]\n",
    "    \n",
    "    # 출력 상자에 번호 출력\n",
    "    output.delete(1.0, END) #첫행 첫문자 위치에서 시작\n",
    "    output.insert(END, f'당첨번호 : {win_list}\\n\\n보너스번호 : {bonus_num}')\n",
    "\n",
    "#     print('당첨번호')\n",
    "#     print(win_list)     \n",
    "#     print('보너스번호')\n",
    "#     print(bonus_num)\n",
    "\n",
    "# lotto_win()\n",
    "\n",
    "window = Tk()\n",
    "window.title(\"로또 당첨 번호 확인\")\n",
    "\n",
    "Label(window, text=\"당첨 회차 입력: \").grid(row=0, column=0)\n",
    "# 입력 상자\n",
    "entry = Entry(window, bg='yellowgreen')\n",
    "entry.grid(row=1, column=0)\n",
    "btn = Button(window, text=\"당첨 번호 확인\", command=lotto_win, bg='pink')\n",
    "btn.grid(row=2, column=0, sticky=W)\n",
    "\n",
    "\n",
    "\n",
    "# 출력 상자\n",
    "output = Text(window, bg='skyblue', width=50, height=6)\n",
    "output.grid(row=3, column=0, sticky=W)\n",
    "\n",
    "\n",
    "\n",
    "window.mainloop()\n"
   ]
  },
  {
   "cell_type": "code",
   "execution_count": null,
   "id": "afeaa269",
   "metadata": {},
   "outputs": [],
   "source": []
  }
 ],
 "metadata": {
  "kernelspec": {
   "display_name": "Python 3 (ipykernel)",
   "language": "python",
   "name": "python3"
  },
  "language_info": {
   "codemirror_mode": {
    "name": "ipython",
    "version": 3
   },
   "file_extension": ".py",
   "mimetype": "text/x-python",
   "name": "python",
   "nbconvert_exporter": "python",
   "pygments_lexer": "ipython3",
   "version": "3.10.9"
  }
 },
 "nbformat": 4,
 "nbformat_minor": 5
}
